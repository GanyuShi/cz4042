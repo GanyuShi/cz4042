{
 "cells": [
  {
   "cell_type": "code",
   "execution_count": 1,
   "metadata": {},
   "outputs": [],
   "source": [
    "# These are all the modules we'll be using later. Make sure you can import them\n",
    "# before proceeding further.\n",
    "from __future__ import print_function\n",
    "import numpy as np\n",
    "import tensorflow as tf"
   ]
  },
  {
   "cell_type": "code",
   "execution_count": 10,
   "metadata": {},
   "outputs": [
    {
     "name": "stdout",
     "output_type": "stream",
     "text": [
      "Train data shape:  (4035, 36)\n",
      "Train labels shape:  (4035,) int64\n",
      "Validation data shape:  (400, 36)\n",
      "Validation labels shape:  (400,)\n",
      "Test data shape:  (2000, 36)\n",
      "Test labels shape:  (2000,)\n"
     ]
    }
   ],
   "source": [
    "def load_satellite(num_training=4035, num_validation=400, num_test=2000):\n",
    "    train = np.loadtxt('data/sat_train.txt', dtype='float32')\n",
    "    test = np.loadtxt('data/sat_test.txt', dtype='float32')\n",
    "    \n",
    "    np.random.seed(10)\n",
    "    np.random.shuffle(train)\n",
    "    np.random.shuffle(test)\n",
    "    \n",
    "    X_train, y_train = train[:,:36],train[:,36]\n",
    "    X_test, y_test = test[:, :36], test[:,36]\n",
    "    \n",
    "    y_train = y_train.astype('int')\n",
    "    y_test = y_test.astype('int')\n",
    "    \n",
    "    train_label7 = y_train == 7\n",
    "    y_train[train_label7] = 6\n",
    "    y_train -= 1\n",
    "    \n",
    "    test_label7 = y_test == 7\n",
    "    y_test[test_label7] = 6\n",
    "    y_test -= 1\n",
    "    \n",
    "    # Subsample the data\n",
    "    mask = list(range(num_training, num_training + num_validation))\n",
    "    X_val = X_train[mask]\n",
    "    y_val = y_train[mask]\n",
    "    mask = list(range(num_training))\n",
    "    X_train = X_train[mask]\n",
    "    y_train = y_train[mask]\n",
    "    mask = list(range(num_test))\n",
    "    X_test = X_test[mask]\n",
    "    y_test = y_test[mask]\n",
    "    \n",
    "    return X_train, y_train, X_val, y_val, X_test, y_test\n",
    "X_train, y_train, X_val, y_val, X_test, y_test = load_satellite()\n",
    "print('Train data shape: ', X_train.shape)\n",
    "print('Train labels shape: ', y_train.shape, y_train.dtype)\n",
    "print('Validation data shape: ', X_val.shape)\n",
    "print('Validation labels shape: ', y_val.shape)\n",
    "print('Test data shape: ', X_test.shape)\n",
    "print('Test labels shape: ', y_test.shape)"
   ]
  },
  {
   "cell_type": "code",
   "execution_count": 19,
   "metadata": {},
   "outputs": [],
   "source": [
    "# This is to expedite the process \n",
    "train_subset = 4035\n",
    "# This is a good beta value to start with\n",
    "beta = 0.01\n",
    "num_features = 36\n",
    "num_hidden = 10\n",
    "num_labels = 6\n",
    "\n",
    "\n",
    "graph = tf.Graph()\n",
    "with graph.as_default():\n",
    "\n",
    "    # Input data.\n",
    "    # They're all constants.\n",
    "    tf_train_dataset = tf.constant(X_train[:train_subset, :])\n",
    "    tf_train_labels = tf.constant(y_train[:train_subset])\n",
    "    tf_valid_dataset = tf.constant(X_val)\n",
    "    tf_test_dataset = tf.constant(X_test)\n",
    "  \n",
    "    # Variables    \n",
    "    # They are variables we want to update and optimize.\n",
    "    w1 = tf.Variable(tf.truncated_normal([num_features, num_hidden]))\n",
    "    b1 = tf.Variable(tf.zeros([num_hidden]))\n",
    "    h1 = tf.nn.sigmoid(tf.matmul(tf_train_dataset, w1) + b1)\n",
    "    \n",
    "    w2 = tf.Variable(tf.truncated_normal([num_hidden, num_labels]))\n",
    "    b2 = tf.Variable(tf.zeros([num_labels]))\n",
    "    # Training computation.\n",
    "    logits = tf.matmul(h1, w2) + b2 \n",
    "    # Original loss function\n",
    "    loss = tf.reduce_mean(tf.nn.sparse_softmax_cross_entropy_with_logits(logits=logits, labels=tf_train_labels) )\n",
    "    # Loss function using L2 Regularization\n",
    "    regularizer = tf.nn.l2_loss(w1) + tf.nn.l2_loss(w2)\n",
    "    loss = tf.reduce_mean(loss + beta * regularizer)\n",
    "    \n",
    "    # Optimizer.\n",
    "    optimizer = tf.train.GradientDescentOptimizer(0.5).minimize(loss)\n",
    "  \n",
    "    # Predictions for the training, validation, and test data.\n",
    "    train_prediction = tf.nn.softmax(logits)\n",
    "#     valid_prediction = tf.nn.softmax( tf.matmul(tf_valid_dataset, w1) + biases )\n",
    "#     test_prediction = tf.nn.softmax(tf.matmul(tf_test_dataset, weights) + biases)"
   ]
  },
  {
   "cell_type": "code",
   "execution_count": 20,
   "metadata": {},
   "outputs": [
    {
     "name": "stdout",
     "output_type": "stream",
     "text": [
      "WARNING:tensorflow:From /Users/shiganyu/anaconda3/envs/cz4042/lib/python3.6/site-packages/tensorflow/python/util/tf_should_use.py:118: initialize_all_variables (from tensorflow.python.ops.variables) is deprecated and will be removed after 2017-03-02.\n",
      "Instructions for updating:\n",
      "Use `tf.global_variables_initializer` instead.\n",
      "Initialized\n",
      "Loss at step 0: 3.6005706787109375\n"
     ]
    },
    {
     "ename": "NameError",
     "evalue": "name 'train_labels' is not defined",
     "output_type": "error",
     "traceback": [
      "\u001b[0;31m---------------------------------------------------------------------------\u001b[0m",
      "\u001b[0;31mNameError\u001b[0m                                 Traceback (most recent call last)",
      "\u001b[0;32m<ipython-input-20-2645f69a394a>\u001b[0m in \u001b[0;36m<module>\u001b[0;34m()\u001b[0m\n\u001b[1;32m     19\u001b[0m             \u001b[0mprint\u001b[0m\u001b[0;34m(\u001b[0m\u001b[0;34m'Loss at step {}: {}'\u001b[0m\u001b[0;34m.\u001b[0m\u001b[0mformat\u001b[0m\u001b[0;34m(\u001b[0m\u001b[0mstep\u001b[0m\u001b[0;34m,\u001b[0m \u001b[0ml\u001b[0m\u001b[0;34m)\u001b[0m\u001b[0;34m)\u001b[0m\u001b[0;34m\u001b[0m\u001b[0m\n\u001b[1;32m     20\u001b[0m             print('Training accuracy: {:.1f}'.format(accuracy(predictions, \n\u001b[0;32m---> 21\u001b[0;31m                                                          train_labels[:train_subset, :])))\n\u001b[0m\u001b[1;32m     22\u001b[0m             \u001b[0;31m# Calling .eval() on valid_prediction is basically like calling run(), but\u001b[0m\u001b[0;34m\u001b[0m\u001b[0;34m\u001b[0m\u001b[0m\n\u001b[1;32m     23\u001b[0m             \u001b[0;31m# just to get that one numpy array. Note that it recomputes all its graph\u001b[0m\u001b[0;34m\u001b[0m\u001b[0;34m\u001b[0m\u001b[0m\n",
      "\u001b[0;31mNameError\u001b[0m: name 'train_labels' is not defined"
     ]
    }
   ],
   "source": [
    "num_steps = 801\n",
    "\n",
    "def accuracy(predictions, labels):\n",
    "    return (100.0 * np.sum(np.argmax(predictions, 1) == np.argmax(labels, 1))\n",
    "            / predictions.shape[0])\n",
    "\n",
    "with tf.Session(graph=graph) as session:\n",
    "    # This is a one-time operation which ensures the parameters get initialized as\n",
    "    # we described in the graph: random weights for the matrix, zeros for the\n",
    "    # biases. \n",
    "    tf.initialize_all_variables().run()\n",
    "    print('Initialized')\n",
    "    for step in range(num_steps):\n",
    "    # Run the computations. We tell .run() that we want to run the optimizer,\n",
    "    # and get the loss value and the training predictions returned as numpy\n",
    "    # arrays.\n",
    "        _, l, predictions = session.run([optimizer, loss, train_prediction])\n",
    "        if (step % 100 == 0):\n",
    "            print('Loss at step {}: {}'.format(step, l))\n",
    "            print('Training accuracy: {:.1f}'.format(accuracy(predictions, \n",
    "                                                         train_labels[:train_subset, :])))\n",
    "            # Calling .eval() on valid_prediction is basically like calling run(), but\n",
    "            # just to get that one numpy array. Note that it recomputes all its graph\n",
    "            # dependencies.\n",
    "            \n",
    "            # You don't have to do .eval above because we already ran the session for the\n",
    "            # train_prediction\n",
    "            print('Validation accuracy: {:.1f}'.format(accuracy(valid_prediction.eval(), \n",
    "                                                           valid_labels)))\n",
    "    print('Test accuracy: {:.1f}'.format(accuracy(test_prediction.eval(), test_labels))) "
   ]
  },
  {
   "cell_type": "code",
   "execution_count": null,
   "metadata": {},
   "outputs": [],
   "source": []
  }
 ],
 "metadata": {
  "kernelspec": {
   "display_name": "Python [default]",
   "language": "python",
   "name": "python3"
  },
  "language_info": {
   "codemirror_mode": {
    "name": "ipython",
    "version": 3
   },
   "file_extension": ".py",
   "mimetype": "text/x-python",
   "name": "python",
   "nbconvert_exporter": "python",
   "pygments_lexer": "ipython3",
   "version": "3.6.6"
  }
 },
 "nbformat": 4,
 "nbformat_minor": 2
}
