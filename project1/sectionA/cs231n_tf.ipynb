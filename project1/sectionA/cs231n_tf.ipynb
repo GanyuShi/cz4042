{
 "cells": [
  {
   "cell_type": "code",
   "execution_count": 1,
   "metadata": {},
   "outputs": [],
   "source": [
    "import os\n",
    "import tensorflow as tf\n",
    "import numpy as np\n",
    "import math\n",
    "import timeit\n",
    "import matplotlib.pyplot as plt\n",
    "\n",
    "%matplotlib inline"
   ]
  },
  {
   "cell_type": "code",
   "execution_count": 37,
   "metadata": {},
   "outputs": [],
   "source": [
    "# scale data\n",
    "def scale(X, X_min, X_max):\n",
    "    return (X - X_min)/(X_max-X_min)"
   ]
  },
  {
   "cell_type": "code",
   "execution_count": 38,
   "metadata": {},
   "outputs": [
    {
     "name": "stdout",
     "output_type": "stream",
     "text": [
      "Train data shape:  (4035, 36)\n",
      "Train labels shape:  (4035,) int64\n",
      "Validation data shape:  (400, 36)\n",
      "Validation labels shape:  (400,)\n",
      "Test data shape:  (2000, 36)\n",
      "Test labels shape:  (2000,)\n"
     ]
    }
   ],
   "source": [
    "def load_satellite(num_training=4035, num_validation=400, num_test=2000):\n",
    "    train = np.loadtxt('data/sat_train.txt')\n",
    "    test = np.loadtxt('data/sat_test.txt')\n",
    "    \n",
    "    X_train, y_train = train[:,:36],train[:,-1].astype(int)\n",
    "    X_train = scale(X_train, np.min(X_train, axis=0), np.max(X_train, axis=0))\n",
    "    \n",
    "    X_test, y_test = test[:, :36], test[:,36].astype(int)\n",
    "    X_test = scale(X_test, np.min(X_test, axis=0), np.max(X_test, axis=0))\n",
    "    \n",
    "    y_train[y_train == 7] = 6\n",
    "    y_train -= 1\n",
    "    \n",
    "    y_test[y_test == 7] = 6\n",
    "    y_test -= 1\n",
    "    \n",
    "    # Subsample the data\n",
    "    mask = list(range(num_training, num_training + num_validation))\n",
    "    X_val = X_train[mask]\n",
    "    y_val = y_train[mask]\n",
    "    mask = list(range(num_training))\n",
    "    X_train = X_train[mask]\n",
    "    y_train = y_train[mask]\n",
    "    mask = list(range(num_test))\n",
    "    X_test = X_test[mask]\n",
    "    y_test = y_test[mask]\n",
    "    \n",
    "    return X_train, y_train, X_val, y_val, X_test, y_test\n",
    "X_train, y_train, X_val, y_val, X_test, y_test = load_satellite()\n",
    "print('Train data shape: ', X_train.shape)\n",
    "print('Train labels shape: ', y_train.shape, y_train.dtype)\n",
    "print('Validation data shape: ', X_val.shape)\n",
    "print('Validation labels shape: ', y_val.shape)\n",
    "print('Test data shape: ', X_test.shape)\n",
    "print('Test labels shape: ', y_test.shape)"
   ]
  },
  {
   "cell_type": "code",
   "execution_count": 39,
   "metadata": {},
   "outputs": [],
   "source": [
    "class Dataset(object):\n",
    "    def __init__(self, X, y, batch_size, shuffle=True):\n",
    "        \"\"\"\n",
    "        Construct a Dataset object to iterate over data X and labels y\n",
    "        \n",
    "        Inputs:\n",
    "        - X: Numpy array of data, of any shape\n",
    "        - y: Numpy array of labels, of any shape but with y.shape[0] == X.shape[0]\n",
    "        - batch_size: Integer giving number of elements per minibatch\n",
    "        - shuffle: (optional) Boolean, whether to shuffle the data on each epoch\n",
    "        \"\"\"\n",
    "        assert X.shape[0] == y.shape[0], 'Got different numbers of data and labels'\n",
    "        self.X, self.y = X, y\n",
    "        self.batch_size, self.shuffle = batch_size, shuffle\n",
    "\n",
    "    def __iter__(self):\n",
    "        N, B = self.X.shape[0], self.batch_size\n",
    "        idxs = np.arange(N)\n",
    "        if self.shuffle:\n",
    "            np.random.seed(0)\n",
    "            np.random.shuffle(idxs)\n",
    "        return iter((self.X[i:i+B], self.y[i:i+B]) for i in range(0, N, B))\n",
    "\n",
    "\n",
    "train_dset = Dataset(X_train, y_train, batch_size=32, shuffle=True)\n",
    "val_dset = Dataset(X_val, y_val, batch_size=32, shuffle=True)\n",
    "test_dset = Dataset(X_test, y_test, batch_size=32)"
   ]
  },
  {
   "cell_type": "code",
   "execution_count": 4,
   "metadata": {},
   "outputs": [
    {
     "name": "stdout",
     "output_type": "stream",
     "text": [
      "0 (32, 36) (32,)\n",
      "1 (32, 36) (32,)\n",
      "2 (32, 36) (32,)\n",
      "3 (32, 36) (32,)\n",
      "4 (32, 36) (32,)\n",
      "5 (32, 36) (32,)\n",
      "6 (32, 36) (32,)\n"
     ]
    }
   ],
   "source": [
    "# We can iterate through a dataset like this:\n",
    "for t, (x, y) in enumerate(train_dset):\n",
    "    print(t, x.shape, y.shape)\n",
    "    if t > 5: break"
   ]
  },
  {
   "cell_type": "code",
   "execution_count": 5,
   "metadata": {},
   "outputs": [
    {
     "name": "stdout",
     "output_type": "stream",
     "text": [
      "Using device:  /cpu:0\n"
     ]
    }
   ],
   "source": [
    "# Set up some global variables\n",
    "USE_GPU = False\n",
    "\n",
    "if USE_GPU:\n",
    "    device = '/device:GPU:0'\n",
    "else:\n",
    "    device = '/cpu:0'\n",
    "\n",
    "# Constant to control how often we print when training models\n",
    "print_every = 100\n",
    "\n",
    "print('Using device: ', device)"
   ]
  },
  {
   "cell_type": "code",
   "execution_count": 6,
   "metadata": {},
   "outputs": [],
   "source": [
    "def two_layer_fc(x, params):\n",
    "    \"\"\"\n",
    "    A fully-connected neural network; the architecture is:\n",
    "    fully-connected layer -> Sigmoid -> fully connected layer.\n",
    "    Note that we only need to define the forward pass here; TensorFlow will take\n",
    "    care of computing the gradients for us.\n",
    "    \n",
    "    The input to the network will be a minibatch of data, of shape\n",
    "    (N, d1, ..., dM) where d1 * ... * dM = D. The hidden layer will have H units,\n",
    "    and the output layer will produce scores for C classes.\n",
    "\n",
    "    Inputs:\n",
    "    - x: A TensorFlow Tensor of shape (N, d1, ..., dM) giving a minibatch of\n",
    "      input data.\n",
    "    - params: A list [w1, w2] of TensorFlow Tensors giving weights for the\n",
    "      network, where w1 has shape (D, H) and w2 has shape (H, C).\n",
    "    \n",
    "    Returns:\n",
    "    - scores: A TensorFlow Tensor of shape (N, C) giving classification scores\n",
    "      for the input data x.\n",
    "    \"\"\"\n",
    "    w1, w2 = params  # Unpack the parameters\n",
    "#     x = flatten(x)   # Flatten the input; now x has shape (N, D)\n",
    "    h = tf.nn.sigmoid(tf.matmul(x, w1)) # Hidden layer: h has shape (N, H)\n",
    "    scores = tf.matmul(h, w2)        # Compute scores of shape (N, C)\n",
    "    return scores"
   ]
  },
  {
   "cell_type": "code",
   "execution_count": 7,
   "metadata": {},
   "outputs": [
    {
     "name": "stdout",
     "output_type": "stream",
     "text": [
      "(64, 6)\n"
     ]
    }
   ],
   "source": [
    "def two_layer_fc_test():\n",
    "    # TensorFlow's default computational graph is essentially a hidden global\n",
    "    # variable. To avoid adding to this default graph when you rerun this cell,\n",
    "    # we clear the default graph before constructing the graph we care about.\n",
    "    tf.reset_default_graph()\n",
    "    hidden_layer_size = 42\n",
    "\n",
    "    # Scoping our computational graph setup code under a tf.device context\n",
    "    # manager lets us tell TensorFlow where we want these Tensors to be\n",
    "    # placed.\n",
    "    with tf.device(device):\n",
    "        # Set up a placehoder for the input of the network, and constant\n",
    "        # zero Tensors for the network weights. Here we declare w1 and w2\n",
    "        # using tf.zeros instead of tf.placeholder as we've seen before - this\n",
    "        # means that the values of w1 and w2 will be stored in the computational\n",
    "        # graph itself and will persist across multiple runs of the graph; in\n",
    "        # particular this means that we don't have to pass values for w1 and w2\n",
    "        # using a feed_dict when we eventually run the graph.\n",
    "        x = tf.placeholder(tf.float32)\n",
    "        w1 = tf.zeros((36, hidden_layer_size))\n",
    "        w2 = tf.zeros((hidden_layer_size, 6))\n",
    "        \n",
    "        # Call our two_layer_fc function to set up the computational\n",
    "        # graph for the forward pass of the network.\n",
    "        scores = two_layer_fc(x, [w1, w2])\n",
    "    \n",
    "    # Use numpy to create some concrete data that we will pass to the\n",
    "    # computational graph for the x placeholder.\n",
    "    x_np = np.zeros((64, 36))\n",
    "    with tf.Session() as sess:\n",
    "        # The calls to tf.zeros above do not actually instantiate the values\n",
    "        # for w1 and w2; the following line tells TensorFlow to instantiate\n",
    "        # the values of all Tensors (like w1 and w2) that live in the graph.\n",
    "        sess.run(tf.global_variables_initializer())\n",
    "        \n",
    "        # Here we actually run the graph, using the feed_dict to pass the\n",
    "        # value to bind to the placeholder for x; we ask TensorFlow to compute\n",
    "        # the value of the scores Tensor, which it returns as a numpy array.\n",
    "        scores_np = sess.run(scores, feed_dict={x: x_np})\n",
    "        print(scores_np.shape)\n",
    "\n",
    "two_layer_fc_test()"
   ]
  },
  {
   "cell_type": "code",
   "execution_count": 8,
   "metadata": {},
   "outputs": [],
   "source": [
    "def training_step(scores, y, params, learning_rate):\n",
    "    \"\"\"\n",
    "    Set up the part of the computational graph which makes a training step.\n",
    "\n",
    "    Inputs:\n",
    "    - scores: TensorFlow Tensor of shape (N, C) giving classification scores for\n",
    "      the model.\n",
    "    - y: TensorFlow Tensor of shape (N,) giving ground-truth labels for scores;\n",
    "      y[i] == c means that c is the correct class for scores[i].\n",
    "    - params: List of TensorFlow Tensors giving the weights of the model\n",
    "    - learning_rate: Python scalar giving the learning rate to use for gradient\n",
    "      descent step.\n",
    "      \n",
    "    Returns:\n",
    "    - loss: A TensorFlow Tensor of shape () (scalar) giving the loss for this\n",
    "      batch of data; evaluating the loss also performs a gradient descent step\n",
    "      on params (see above).\n",
    "    \"\"\"\n",
    "    # First compute the loss; the first line gives losses for each example in\n",
    "    # the minibatch, and the second averages the losses acros the batch\n",
    "    losses = tf.nn.sparse_softmax_cross_entropy_with_logits(labels=y, logits=scores)\n",
    "    loss = tf.reduce_mean(losses)\n",
    "\n",
    "    # Compute the gradient of the loss with respect to each parameter of the the\n",
    "    # network. This is a very magical function call: TensorFlow internally\n",
    "    # traverses the computational graph starting at loss backward to each element\n",
    "    # of params, and uses backpropagation to figure out how to compute gradients;\n",
    "    # it then adds new operations to the computational graph which compute the\n",
    "    # requested gradients, and returns a list of TensorFlow Tensors that will\n",
    "    # contain the requested gradients when evaluated.\n",
    "    grad_params = tf.gradients(loss, params)\n",
    "    \n",
    "    # Make a gradient descent step on all of the model parameters.\n",
    "    new_weights = []   \n",
    "    for w, grad_w in zip(params, grad_params):\n",
    "        new_w = tf.assign_sub(w, learning_rate * grad_w)\n",
    "        new_weights.append(new_w)\n",
    "\n",
    "    # Insert a control dependency so that evaluting the loss causes a weight\n",
    "    # update to happen; see the discussion above.\n",
    "    with tf.control_dependencies(new_weights):\n",
    "        return tf.identity(loss)"
   ]
  },
  {
   "cell_type": "code",
   "execution_count": 9,
   "metadata": {},
   "outputs": [],
   "source": [
    "def train_part2(model_fn, init_fn, learning_rate):\n",
    "    \"\"\"\n",
    "    Train a model on CIFAR-10.\n",
    "    \n",
    "    Inputs:\n",
    "    - model_fn: A Python function that performs the forward pass of the model\n",
    "      using TensorFlow; it should have the following signature:\n",
    "      scores = model_fn(x, params) where x is a TensorFlow Tensor giving a\n",
    "      minibatch of image data, params is a list of TensorFlow Tensors holding\n",
    "      the model weights, and scores is a TensorFlow Tensor of shape (N, C)\n",
    "      giving scores for all elements of x.\n",
    "    - init_fn: A Python function that initializes the parameters of the model.\n",
    "      It should have the signature params = init_fn() where params is a list\n",
    "      of TensorFlow Tensors holding the (randomly initialized) weights of the\n",
    "      model.\n",
    "    - learning_rate: Python float giving the learning rate to use for SGD.\n",
    "    \"\"\"\n",
    "    # First clear the default graph\n",
    "    tf.reset_default_graph()\n",
    "    is_training = tf.placeholder(tf.bool, name='is_training')\n",
    "    # Set up the computational graph for performing forward and backward passes,\n",
    "    # and weight updates.\n",
    "    with tf.device(device):\n",
    "        # Set up placeholders for the data and labels\n",
    "        x = tf.placeholder(tf.float32, [None, 36])\n",
    "        y = tf.placeholder(tf.int32, [None])\n",
    "        params = init_fn()           # Initialize the model parameters\n",
    "        scores = model_fn(x, params) # Forward pass of the model\n",
    "        loss = training_step(scores, y, params, learning_rate)\n",
    "\n",
    "    # Now we actually run the graph many times using the training data\n",
    "    with tf.Session() as sess:\n",
    "        # Initialize variables that will live in the graph\n",
    "        sess.run(tf.global_variables_initializer())\n",
    "        for t, (x_np, y_np) in enumerate(train_dset):\n",
    "            # Run the graph on a batch of training data; recall that asking\n",
    "            # TensorFlow to evaluate loss will cause an SGD step to happen.\n",
    "            feed_dict = {x: x_np, y: y_np}\n",
    "            loss_np = sess.run(loss, feed_dict=feed_dict)\n",
    "            \n",
    "            # Periodically print the loss and check accuracy on the val set\n",
    "            if t % print_every == 0:\n",
    "                print('Iteration %d, loss = %.4f' % (t, loss_np))\n",
    "                check_accuracy(sess, val_dset, x, scores, is_training)"
   ]
  },
  {
   "cell_type": "code",
   "execution_count": 10,
   "metadata": {},
   "outputs": [],
   "source": [
    "def check_accuracy(sess, dset, x, scores, is_training=None, verbose=False):\n",
    "    \"\"\"\n",
    "    Check accuracy on a classification model.\n",
    "    \n",
    "    Inputs:\n",
    "    - sess: A TensorFlow Session that will be used to run the graph\n",
    "    - dset: A Dataset object on which to check accuracy\n",
    "    - x: A TensorFlow placeholder Tensor where input images should be fed\n",
    "    - scores: A TensorFlow Tensor representing the scores output from the\n",
    "      model; this is the Tensor we will ask TensorFlow to evaluate.\n",
    "      \n",
    "    Returns: Nothing, but prints the accuracy of the model\n",
    "    \"\"\"\n",
    "    num_correct, num_samples = 0, 0\n",
    "    for x_batch, y_batch in dset:\n",
    "        feed_dict = {x: x_batch, is_training: 0}\n",
    "        scores_np = sess.run(scores, feed_dict=feed_dict)\n",
    "        y_pred = scores_np.argmax(axis=1)\n",
    "        num_samples += x_batch.shape[0]\n",
    "        num_correct += (y_pred == y_batch).sum()\n",
    "    acc = float(num_correct) / num_samples\n",
    "    if verbose:\n",
    "        print('Got %d / %d correct (%.2f%%)' % (num_correct, num_samples, 100 * acc))\n",
    "    return acc"
   ]
  },
  {
   "cell_type": "code",
   "execution_count": 11,
   "metadata": {},
   "outputs": [],
   "source": [
    "def kaiming_normal(shape):\n",
    "    if len(shape) == 2:\n",
    "        fan_in, fan_out = shape[0], shape[1]\n",
    "    elif len(shape) == 4:\n",
    "        fan_in, fan_out = np.prod(shape[:3]), shape[3]\n",
    "    return tf.random_normal(shape) * np.sqrt(1.0 / fan_in)"
   ]
  },
  {
   "cell_type": "code",
   "execution_count": 12,
   "metadata": {},
   "outputs": [
    {
     "name": "stdout",
     "output_type": "stream",
     "text": [
      "Iteration 0, loss = 1.6108\n",
      "Iteration 100, loss = 2.0623\n"
     ]
    }
   ],
   "source": [
    "def two_layer_fc_init():\n",
    "    \"\"\"\n",
    "    Initialize the weights of a two-layer network, for use with the\n",
    "    two_layer_network function defined above.\n",
    "    \n",
    "    Inputs: None\n",
    "    \n",
    "    Returns: A list of:\n",
    "    - w1: TensorFlow Variable giving the weights for the first layer\n",
    "    - w2: TensorFlow Variable giving the weights for the second layer\n",
    "    \"\"\"\n",
    "    hidden_layer_size = 10\n",
    "    w1 = tf.Variable(kaiming_normal((36, hidden_layer_size)))\n",
    "    w2 = tf.Variable(kaiming_normal((hidden_layer_size, 10)))\n",
    "    return [w1, w2]\n",
    "\n",
    "learning_rate = 1e-2\n",
    "train_part2(two_layer_fc, two_layer_fc_init, learning_rate)"
   ]
  },
  {
   "cell_type": "code",
   "execution_count": 13,
   "metadata": {},
   "outputs": [
    {
     "name": "stdout",
     "output_type": "stream",
     "text": [
      "(64, 10)\n"
     ]
    }
   ],
   "source": [
    "class TwoLayerFC(tf.keras.Model):\n",
    "    def __init__(self, hidden_size, num_classes):\n",
    "        super().__init__()        \n",
    "        initializer = tf.variance_scaling_initializer(scale=1.0, seed=0)\n",
    "        regularizer = tf.contrib.layers.l2_regularizer(scale=10e-6)\n",
    "        self.fc1 = tf.layers.Dense(hidden_size, activation=tf.nn.sigmoid,\n",
    "                                   kernel_regularizer=regularizer,\n",
    "                                   kernel_initializer=initializer)\n",
    "        self.fc2 = tf.layers.Dense(num_classes,\n",
    "                                   kernel_regularizer=regularizer,\n",
    "                                   kernel_initializer=initializer)\n",
    "    def call(self, x, training=None):\n",
    "#         x = tf.layers.flatten(x)\n",
    "        x = self.fc1(x)\n",
    "        x = self.fc2(x)\n",
    "        return x\n",
    "\n",
    "\n",
    "def test_TwoLayerFC():\n",
    "    \"\"\" A small unit test to exercise the TwoLayerFC model above. \"\"\"\n",
    "    tf.reset_default_graph()\n",
    "    input_size, hidden_size, num_classes = 50, 42, 10\n",
    "\n",
    "    # As usual in TensorFlow, we first need to define our computational graph.\n",
    "    # To this end we first construct a TwoLayerFC object, then use it to construct\n",
    "    # the scores Tensor.\n",
    "    model = TwoLayerFC(hidden_size, num_classes)\n",
    "    with tf.device(device):\n",
    "        x = tf.zeros((64, input_size))\n",
    "        scores = model(x)\n",
    "\n",
    "    # Now that our computational graph has been defined we can run the graph\n",
    "    with tf.Session() as sess:\n",
    "        sess.run(tf.global_variables_initializer())\n",
    "        scores_np = sess.run(scores)\n",
    "        print(scores_np.shape)\n",
    "        \n",
    "test_TwoLayerFC()"
   ]
  },
  {
   "cell_type": "code",
   "execution_count": 57,
   "metadata": {},
   "outputs": [],
   "source": [
    "def train_part34(model_init_fn, optimizer_init_fn, num_epochs=1, verbose=False):\n",
    "    \"\"\"\n",
    "    Simple training loop for use with models defined using tf.keras. It trains\n",
    "    a model for one epoch on the CIFAR-10 training set and periodically checks\n",
    "    accuracy on the CIFAR-10 validation set.\n",
    "    \n",
    "    Inputs:\n",
    "    - model_init_fn: A function that takes no parameters; when called it\n",
    "      constructs the model we want to train: model = model_init_fn()\n",
    "    - optimizer_init_fn: A function which takes no parameters; when called it\n",
    "      constructs the Optimizer object we will use to optimize the model:\n",
    "      optimizer = optimizer_init_fn()\n",
    "    - num_epochs: The number of epochs to train for\n",
    "    \n",
    "    Returns: Nothing, but prints progress during training\n",
    "    \"\"\"\n",
    "    tf.reset_default_graph()    \n",
    "    with tf.device(device):\n",
    "        # Construct the computational graph we will use to train the model. We\n",
    "        # use the model_init_fn to construct the model, declare placeholders for\n",
    "        # the data and labels\n",
    "        x = tf.placeholder(tf.float32, [None, 36])\n",
    "        y = tf.placeholder(tf.int32, [None])\n",
    "        \n",
    "        # We need a place holder to explicitly specify if the model is in the training\n",
    "        # phase or not. This is because a number of layers behaves differently in\n",
    "        # training and in testing, e.g., dropout and batch normalization.\n",
    "        # We pass this variable to the computation graph through feed_dict as shown below.\n",
    "        is_training = tf.placeholder(tf.bool, name='is_training')\n",
    "        \n",
    "        # Use the model function to build the forward pass.\n",
    "        scores = model_init_fn(x, is_training)\n",
    "\n",
    "        # Compute the loss like we did in Part II\n",
    "        loss = tf.nn.sparse_softmax_cross_entropy_with_logits(labels=y, logits=scores)\n",
    "        loss = tf.reduce_mean(loss)\n",
    "\n",
    "        # Use the optimizer_fn to construct an Optimizer, then use the optimizer\n",
    "        # to set up the training step. Asking TensorFlow to evaluate the\n",
    "        # train_op returned by optimizer.minimize(loss) will cause us to make a\n",
    "        # single update step using the current minibatch of data.\n",
    "        \n",
    "        # Note that we use tf.control_dependencies to force the model to run\n",
    "        # the tf.GraphKeys.UPDATE_OPS at each training step. tf.GraphKeys.UPDATE_OPS\n",
    "        # holds the operators that update the states of the network.\n",
    "        # For example, the tf.layers.batch_normalization function adds the running mean\n",
    "        # and variance update operators to tf.GraphKeys.UPDATE_OPS.\n",
    "        optimizer = optimizer_init_fn()\n",
    "        update_ops = tf.get_collection(tf.GraphKeys.UPDATE_OPS)\n",
    "        with tf.control_dependencies(update_ops):\n",
    "            train_op = optimizer.minimize(loss)\n",
    "\n",
    "    # Now we can run the computational graph many times to train the model.\n",
    "    # When we call sess.run we ask it to evaluate train_op, which causes the\n",
    "    # model to update.\n",
    "    errors = []\n",
    "    accuracies = []\n",
    "    with tf.Session() as sess:\n",
    "        sess.run(tf.global_variables_initializer())\n",
    "        t = 0\n",
    "        for epoch in range(num_epochs):\n",
    "#             print('Starting epoch %d' % epoch)\n",
    "            for x_np, y_np in train_dset:\n",
    "                feed_dict = {x: x_np, y: y_np, is_training:1}\n",
    "                loss_np, _ = sess.run([loss, train_op], feed_dict=feed_dict)\n",
    "                t += 1                \n",
    "            accuracy = check_accuracy(sess, val_dset, x, scores, is_training=is_training)\n",
    "            errors.append(loss_np)\n",
    "            accuracies.append(accuracy)\n",
    "        if verbose:\n",
    "            print('Iteration %d, loss = %.4f' % (t, loss_np))\n",
    "            print()\n",
    "    return errors, accuracies\n"
   ]
  },
  {
   "cell_type": "code",
   "execution_count": 15,
   "metadata": {},
   "outputs": [],
   "source": [
    "hidden_size, num_classes = 10, 6\n",
    "learning_rate = 1e-2\n",
    "\n",
    "def model_init_fn(inputs, is_training):\n",
    "    return TwoLayerFC(hidden_size, num_classes)(inputs)\n",
    "\n",
    "def optimizer_init_fn():\n",
    "    return tf.train.GradientDescentOptimizer(learning_rate)\n",
    "\n",
    "errors, accuracies = train_part34(model_init_fn, optimizer_init_fn, num_epochs=1)\n",
    "# print(errors, accuracies)"
   ]
  },
  {
   "cell_type": "code",
   "execution_count": 46,
   "metadata": {},
   "outputs": [
    {
     "data": {
      "image/png": "[encoded data removed]",
      "text/plain": [
       "<Figure size 432x288 with 2 Axes>"
      ]
     },
     "metadata": {
      "needs_background": "light"
     },
     "output_type": "display_data"
    }
   ],
   "source": [
    "learning_rate = 1e-2\n",
    "regularizer = tf.contrib.layers.l2_regularizer(scale=10e-6)\n",
    "num_epoch = 500\n",
    "def model_init_fn(inputs, is_training):\n",
    "    hidden_layer_size, num_classes = 10, 6\n",
    "    initializer = tf.variance_scaling_initializer(scale=1.0, seed=0)\n",
    "    layers = [\n",
    "        tf.layers.Dense(hidden_layer_size, activation=tf.nn.sigmoid,\n",
    "                        kernel_regularizer=regularizer,\n",
    "                        kernel_initializer=initializer),\n",
    "        tf.layers.Dense(num_classes,\n",
    "                        kernel_regularizer=regularizer,\n",
    "                        kernel_initializer=initializer),\n",
    "    ]\n",
    "    model = tf.keras.Sequential(layers)\n",
    "    return model(inputs)\n",
    "\n",
    "def optimizer_init_fn():\n",
    "    return tf.train.GradientDescentOptimizer(learning_rate)\n",
    "\n",
    "errors, accuracies = train_part34(model_init_fn, optimizer_init_fn, num_epochs=num_epoch)\n",
    "# print(errors, accuracies)\n",
    "\n",
    "fig, [ax1, ax2] = plt.subplots(nrows=2, ncols=1)\n",
    "ax1.plot(range(len(errors)), errors)\n",
    "ax2.plot(range(len(accuracies)), accuracies)\n",
    "plt.xlabel('epoch')\n",
    "ax1.set_ylabel('Train Errors')\n",
    "ax2.set_ylabel('Validation accuracy')\n",
    "plt.show()"
   ]
  },
  {
   "cell_type": "code",
   "execution_count": 49,
   "metadata": {},
   "outputs": [
    {
     "name": "stdout",
     "output_type": "stream",
     "text": [
      "batch size: 4\n",
      "batch size: 8\n",
      "batch size: 16\n",
      "batch size: 32\n",
      "batch size: 64\n"
     ]
    }
   ],
   "source": [
    "batch_sizes = [4, 8, 16, 32, 64]\n",
    "num_epoch = 500\n",
    "acc = []\n",
    "err = []\n",
    "for size in batch_sizes:\n",
    "    print('batch size:', size)\n",
    "    train_dset = Dataset(X_train, y_train, batch_size=size, shuffle=True)\n",
    "    val_dset = Dataset(X_val, y_val, batch_size=size, shuffle=True)\n",
    "    test_dset = Dataset(X_test, y_test, batch_size=size)\n",
    "    \n",
    "    errors, accuracies = train_part34(model_init_fn, optimizer_init_fn, num_epochs=num_epoch)\n",
    "    acc.append(accuracies)\n",
    "    err.append(errors)\n",
    "# print('Accuracies:')\n",
    "# print(acc)\n",
    "# print('Errors:')\n",
    "# print(err)\n",
    "\n",
    "# for i in range(len(batch_sizes)):\n",
    "#     plt.plot(range(num_epoch), err[i], label='batch size = {}'.format(batch_sizes[i]))\n",
    "\n",
    "# plt.xlabel('epochs')\n",
    "# plt.ylabel('Train error')\n",
    "# plt.legend()\n",
    "# plt.show()\n"
   ]
  },
  {
   "cell_type": "code",
   "execution_count": 50,
   "metadata": {},
   "outputs": [
    {
     "data": {
      "image/png": "[encoded data removed]",
      "text/plain": [
       "<Figure size 432x288 with 2 Axes>"
      ]
     },
     "metadata": {
      "needs_background": "light"
     },
     "output_type": "display_data"
    }
   ],
   "source": [
    "fig, [ax1, ax2] = plt.subplots(nrows=2, ncols=1) \n",
    "for i in range(len(batch_sizes)):\n",
    "    ax1.plot(range(num_epoch), err[i], label='batch size = {}'.format(batch_sizes[i]))\n",
    "    ax2.plot(range(num_epoch), acc[i], label='batch size = {}'.format(batch_sizes[i]))\n",
    "\n",
    "plt.xlabel('epoch')\n",
    "ax1.set_ylabel('Train Errors')\n",
    "ax2.set_ylabel('Validation accuracy')\n",
    "# ax1.legend(loc='upper right')\n",
    "# ax2.legend(loc='upper right')\n",
    "ax1.legend(loc='center left', bbox_to_anchor=(1, 0.5))\n",
    "ax2.legend(loc='center left', bbox_to_anchor=(1, 0.5))\n",
    "plt.show()\n"
   ]
  },
  {
   "cell_type": "code",
   "execution_count": 36,
   "metadata": {},
   "outputs": [
    {
     "name": "stdout",
     "output_type": "stream",
     "text": [
      "Accuracies:\n",
      "[[0.6325, 0.6325, 0.6325, 0.6325, 0.6325, 0.6325, 0.6325, 0.6325, 0.6325, 0.6325, 0.6325, 0.6325, 0.6325, 0.6325, 0.6325, 0.6325, 0.6325, 0.6325, 0.6325, 0.6325], [0.6325, 0.6325, 0.6325, 0.6325, 0.6325, 0.6325, 0.6325, 0.6325, 0.6325, 0.6325, 0.6325, 0.6325, 0.6325, 0.6325, 0.6325, 0.6325, 0.6325, 0.6325, 0.6325, 0.6325], [0.6325, 0.6325, 0.6325, 0.6325, 0.6325, 0.6325, 0.6325, 0.6325, 0.6325, 0.6325, 0.6325, 0.6325, 0.6325, 0.6325, 0.6325, 0.6325, 0.6325, 0.6325, 0.6325, 0.6325], [0.6325, 0.6325, 0.6325, 0.6325, 0.6325, 0.6325, 0.6325, 0.635, 0.635, 0.635, 0.635, 0.635, 0.635, 0.635, 0.635, 0.635, 0.635, 0.635, 0.635, 0.635], [0.0, 0.0, 0.0, 0.6325, 0.6325, 0.6325, 0.6325, 0.6325, 0.6325, 0.6325, 0.635, 0.635, 0.635, 0.635, 0.635, 0.635, 0.635, 0.635, 0.635, 0.635]]\n",
      "Errors:\n",
      "[[0.63623834, 0.6447728, 0.6447485, 0.6447485, 0.6447485, 0.6447485, 0.64474845, 0.64474845, 0.64474845, 0.6447485, 0.6447486, 0.6447484, 0.64474845, 0.6447486, 0.6447485, 0.6447485, 0.6447485, 0.6447487, 0.6450093, 0.64474887], [0.79003984, 0.78822273, 0.78805923, 0.7880688, 0.7880706, 0.7880662, 0.78807, 0.7880704, 0.7880731, 0.788073, 0.7880742, 0.788074, 0.78807443, 0.78807515, 0.7880764, 0.7880755, 0.78807706, 0.78807336, 0.78807646, 0.7880747], [0.8728153, 0.9084504, 0.88163346, 0.8782913, 0.8751607, 0.9899393, 0.9754813, 0.97292525, 0.9725802, 0.9725427, 0.9725461, 0.97255063, 0.9725519, 0.97255296, 0.9725533, 0.97255397, 0.97255474, 0.9725554, 0.97255605, 0.9725568], [1.339087, 1.2250932, 1.1971065, 1.1855382, 1.1768535, 1.1699845, 1.1346813, 1.1644272, 1.1534569, 1.1484438, 1.1403552, 1.1528205, 1.062752, 1.0777872, 1.0805615, 1.0785369, 1.0781759, 1.0765806, 1.0744033, 1.0720911], [1.5437784, 1.4349226, 1.3984379, 1.3832235, 1.3748255, 1.3683401, 1.3624252, 1.3580393, 1.3535887, 1.3494673, 1.3455406, 1.3415699, 1.3376354, 1.333959, 1.3307252, 1.3261305, 1.3206371, 1.308931, 1.3238386, 1.3162094]]\n"
     ]
    }
   ],
   "source": [
    "print('Accuracies:')\n",
    "print(acc)\n",
    "print('Errors:')\n",
    "print(err)"
   ]
  },
  {
   "cell_type": "code",
   "execution_count": 58,
   "metadata": {},
   "outputs": [
    {
     "data": {
      "text/plain": [
       "0.256821870803833"
      ]
     },
     "execution_count": 58,
     "metadata": {},
     "output_type": "execute_result"
    }
   ],
   "source": [
    "def time_function(f, *args):\n",
    "    \"\"\"\n",
    "    Call a function f with args and return the time (in seconds) that it took to execute.\n",
    "    \"\"\"\n",
    "    import time\n",
    "    tic = time.time()\n",
    "    f(*args)\n",
    "    toc = time.time()\n",
    "    return toc - tic\n",
    "\n",
    "time_function(train_part34, model_init_fn, optimizer_init_fn)"
   ]
  },
  {
   "cell_type": "code",
   "execution_count": 75,
   "metadata": {},
   "outputs": [
    {
     "name": "stdout",
     "output_type": "stream",
     "text": [
      "batch size: 4\n",
      "batch size: 8\n",
      "batch size: 16\n",
      "batch size: 32\n",
      "batch size: 64\n"
     ]
    }
   ],
   "source": [
    "batch_sizes = [4, 8, 16, 32, 64]\n",
    "times = []\n",
    "for size in batch_sizes:\n",
    "    print('batch size:', size)\n",
    "    train_dset = Dataset(X_train, y_train, batch_size=size, shuffle=True)\n",
    "    val_dset = Dataset(X_val, y_val, batch_size=size, shuffle=True)\n",
    "    test_dset = Dataset(X_test, y_test, batch_size=size)\n",
    "    \n",
    "    t = time_function(train_part34, model_init_fn, optimizer_init_fn)\n",
    "    times.append(t)\n"
   ]
  },
  {
   "cell_type": "code",
   "execution_count": 76,
   "metadata": {},
   "outputs": [
    {
     "name": "stdout",
     "output_type": "stream",
     "text": [
      "times: [1.080979824066162, 0.6650078296661377, 0.38753175735473633, 0.3719518184661865, 0.26747608184814453]\n"
     ]
    },
    {
     "data": {
      "image/png": "[encoded data removed]",
      "text/plain": [
       "<Figure size 432x288 with 1 Axes>"
      ]
     },
     "metadata": {
      "needs_background": "light"
     },
     "output_type": "display_data"
    }
   ],
   "source": [
    "print('times:', times)\n",
    "plt.figure()\n",
    "plt.plot(batch_sizes, times)\n",
    "plt.scatter(batch_sizes, times)\n",
    "# plt.xticks(batch_sizes)\n",
    "plt.xlabel('batch size')\n",
    "plt.ylabel('time')\n",
    "for i, time in enumerate(times):\n",
    "    plt.annotate(\"%.2f\"%(time), (batch_sizes[i], times[i]))\n",
    "plt.show()\n"
   ]
  },
  {
   "cell_type": "code",
   "execution_count": 73,
   "metadata": {},
   "outputs": [
    {
     "data": {
      "image/png": "[encoded data removed]",
      "text/plain": [
       "<Figure size 432x288 with 2 Axes>"
      ]
     },
     "metadata": {
      "needs_background": "light"
     },
     "output_type": "display_data"
    }
   ],
   "source": [
    "hidden_size, num_classes = 10, 6\n",
    "learning_rate = 1e-2\n",
    "\n",
    "def model_init_fn(inputs, is_training):\n",
    "    return TwoLayerFC(hidden_size, num_classes)(inputs)\n",
    "\n",
    "def optimizer_init_fn():\n",
    "    return tf.train.GradientDescentOptimizer(learning_rate)\n",
    "\n",
    "errors, accuracies = train_part34(model_init_fn, optimizer_init_fn, num_epochs=100)\n",
    "fig, [ax1, ax2] = plt.subplots(nrows=2, ncols=1)\n",
    "ax1.plot(range(len(errors)), errors)\n",
    "ax2.plot(range(len(accuracies)), accuracies)\n",
    "plt.xlabel('epoch')\n",
    "ax1.set_ylabel('Train Errors')\n",
    "ax2.set_ylabel('Validation accuracy')\n",
    "plt.show()"
   ]
  },
  {
   "cell_type": "code",
   "execution_count": 89,
   "metadata": {},
   "outputs": [
    {
     "name": "stdout",
     "output_type": "stream",
     "text": [
      "hidden size: 5\n",
      "hidden size: 10\n",
      "hidden size: 15\n",
      "hidden size: 20\n",
      "hidden size: 25\n"
     ]
    }
   ],
   "source": [
    "train_dset = Dataset(X_train, y_train, batch_size=32, shuffle=True)\n",
    "val_dset = Dataset(X_val, y_val, batch_size=32, shuffle=True)\n",
    "test_dset = Dataset(X_test, y_test, batch_size=32)\n",
    "\n",
    "hidden_sizes = [5, 10, 15, 20, 25]\n",
    "num_epoch = 100\n",
    "acc = []\n",
    "err = []\n",
    "for size in hidden_sizes:\n",
    "    print('hidden size:', size)\n",
    "    hidden_size = size\n",
    "    errors, accuracies = train_part34(model_init_fn, optimizer_init_fn, num_epochs=num_epoch)\n",
    "    acc.append(accuracies)\n",
    "    err.append(errors)"
   ]
  },
  {
   "cell_type": "code",
   "execution_count": 91,
   "metadata": {},
   "outputs": [],
   "source": [
    "def plot_err_acc(err, acc, hyperparam, label):\n",
    "    n = len(hyperparam)\n",
    "    num_epoch = len(err[0])\n",
    "    fig, [ax1, ax2] = plt.subplots(nrows=2, ncols=1) \n",
    "    for i in range(n):\n",
    "        ax1.plot(range(num_epoch), err[i], label='{} = {}'.format(label, hyperparam[i]))\n",
    "        ax2.plot(range(num_epoch), acc[i], label='{} = {}'.format(label, hyperparam[i]))\n",
    "\n",
    "    plt.xlabel('epoch')\n",
    "    ax1.set_ylabel('Train Errors')\n",
    "    ax2.set_ylabel('Validation accuracy')\n",
    "    # ax1.legend(loc='upper right')\n",
    "    # ax2.legend(loc='upper right')\n",
    "    ax1.legend(loc='center left', bbox_to_anchor=(1, 0.5))\n",
    "    ax2.legend(loc='center left', bbox_to_anchor=(1, 0.5))\n",
    "    plt.show()"
   ]
  },
  {
   "cell_type": "code",
   "execution_count": 92,
   "metadata": {},
   "outputs": [
    {
     "data": {
      "image/png": "[encoded data removed]",
      "text/plain": [
       "<Figure size 432x288 with 2 Axes>"
      ]
     },
     "metadata": {
      "needs_background": "light"
     },
     "output_type": "display_data"
    }
   ],
   "source": [
    "plot_err_acc(err, acc, hidden_sizes, 'hidden size')"
   ]
  },
  {
   "cell_type": "code",
   "execution_count": 95,
   "metadata": {},
   "outputs": [
    {
     "name": "stdout",
     "output_type": "stream",
     "text": [
      "hidden size: 5\n",
      "hidden size: 10\n",
      "hidden size: 15\n",
      "hidden size: 20\n",
      "hidden size: 25\n",
      "[0.10445247888565064, 0.10842635154724121, 0.11401114225387574, 0.11513923168182373, 0.14765834093093871]\n"
     ]
    }
   ],
   "source": [
    "hidden_sizes = [5, 10, 15, 20, 25]\n",
    "times = []\n",
    "for size in hidden_sizes:\n",
    "    print('hidden size:', size)\n",
    "    hidden_size = size\n",
    "    t = time_function(train_part34, model_init_fn, optimizer_init_fn, 100) / 100\n",
    "    times.append(t)\n",
    "print(times)"
   ]
  },
  {
   "cell_type": "code",
   "execution_count": 100,
   "metadata": {},
   "outputs": [],
   "source": [
    "def plot_time(times, hyperparam, label):\n",
    "    plt.figure()\n",
    "    plt.plot(hyperparam, times)\n",
    "    plt.scatter(hyperparam, times)\n",
    "    plt.xlabel(label)\n",
    "    plt.ylabel('time')\n",
    "    for i, time in enumerate(times):\n",
    "        plt.annotate(\"%.3f\"%(time), (hyperparam[i], times[i]))\n",
    "    plt.show()"
   ]
  },
  {
   "cell_type": "code",
   "execution_count": 101,
   "metadata": {},
   "outputs": [
    {
     "data": {
      "image/png": "[encoded data removed]",
      "text/plain": [
       "<Figure size 432x288 with 1 Axes>"
      ]
     },
     "metadata": {
      "needs_background": "light"
     },
     "output_type": "display_data"
    }
   ],
   "source": [
    "plot_time(times, hidden_sizes, 'hidden size')"
   ]
  },
  {
   "cell_type": "code",
   "execution_count": null,
   "metadata": {},
   "outputs": [],
   "source": []
  }
 ],
 "metadata": {
  "kernelspec": {
   "display_name": "Python [conda env:cz4042]",
   "language": "python",
   "name": "conda-env-cz4042-py"
  },
  "language_info": {
   "codemirror_mode": {
    "name": "ipython",
    "version": 3
   },
   "file_extension": ".py",
   "mimetype": "text/x-python",
   "name": "python",
   "nbconvert_exporter": "python",
   "pygments_lexer": "ipython3",
   "version": "3.6.6"
  }
 },
 "nbformat": 4,
 "nbformat_minor": 2
}
