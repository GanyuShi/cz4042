{
 "cells": [
  {
   "cell_type": "code",
   "execution_count": 9,
   "metadata": {},
   "outputs": [],
   "source": [
    "import numpy as np\n",
    "from sklearn import datasets\n",
    "from sklearn import model_selection\n",
    "from sklearn import preprocessing\n",
    "import tensorflow as tf\n",
    "import pylab as plt\n",
    "import multiprocessing as mp\n",
    "import pandas as pd"
   ]
  },
  {
   "cell_type": "code",
   "execution_count": 31,
   "metadata": {},
   "outputs": [
    {
     "name": "stdout",
     "output_type": "stream",
     "text": [
      "(4435, 37)\n",
      "(2000, 37)\n"
     ]
    }
   ],
   "source": [
    "train = pd.read_csv('sat_train.txt', delimiter=' ', header=None)\n",
    "test = pd.read_csv('sat_test.txt', delimiter=' ', header=None)\n",
    "print(train.shape)\n",
    "print(test.shape)"
   ]
  },
  {
   "cell_type": "code",
   "execution_count": 35,
   "metadata": {},
   "outputs": [
    {
     "name": "stdout",
     "output_type": "stream",
     "text": [
      "x train: (4435, 36)\n",
      "y train: (4435,)\n",
      "x test: (2000, 36)\n",
      "y test: (2000,)\n"
     ]
    }
   ],
   "source": [
    "learning_rate = 0.001\n",
    "\n",
    "no_features = x.shape[1]\n",
    "no_labels = 6\n",
    "no_iters = 2500\n",
    "\n",
    "seed = 10\n",
    "tf.set_random_seed(seed)\n",
    "\n",
    "# Load dataset\n",
    "x_train, y_train = train.iloc[:, :36], train.iloc[:, 36]\n",
    "x_test, y_test = test.iloc[:, :36], test.iloc[:, 36]\n",
    "print('x train:', x_train.shape)\n",
    "print('y train:',y_train.shape)\n",
    "print('x test:',x_test.shape)\n",
    "print('y test:',y_test.shape)"
   ]
  },
  {
   "cell_type": "code",
   "execution_count": null,
   "metadata": {},
   "outputs": [],
   "source": [
    "\n",
    "\n",
    "\n",
    "y_train = y_train_.reshape(len(y_train_), no_labels)\n",
    "y_test = y_test_.reshape(len(y_test_), no_labels)\n",
    "\n",
    "# Scale data (training set) to 0 mean and unit standard deviation.\n",
    "scaler = preprocessing.StandardScaler()\n",
    "x_train = scaler.fit_transform(x_train)\n",
    "x_test = scaler.fit_transform(x_test)\n"
   ]
  }
 ],
 "metadata": {
  "kernelspec": {
   "display_name": "Python [conda env:cz4042]",
   "language": "python",
   "name": "conda-env-cz4042-py"
  },
  "language_info": {
   "codemirror_mode": {
    "name": "ipython",
    "version": 3
   },
   "file_extension": ".py",
   "mimetype": "text/x-python",
   "name": "python",
   "nbconvert_exporter": "python",
   "pygments_lexer": "ipython3",
   "version": "3.6.6"
  }
 },
 "nbformat": 4,
 "nbformat_minor": 2
}
